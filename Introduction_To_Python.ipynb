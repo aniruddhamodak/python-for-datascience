{
  "nbformat": 4,
  "nbformat_minor": 0,
  "metadata": {
    "colab": {
      "name": "Introduction To Python.ipynb",
      "provenance": [],
      "authorship_tag": "ABX9TyPZ4rx+c7RPX23Egrl+f1ev",
      "include_colab_link": true
    },
    "kernelspec": {
      "name": "python3",
      "display_name": "Python 3"
    }
  },
  "cells": [
    {
      "cell_type": "markdown",
      "metadata": {
        "id": "view-in-github",
        "colab_type": "text"
      },
      "source": [
        "<a href=\"https://colab.research.google.com/github/aniruddhamodak/python-for-datascience/blob/master/Introduction_To_Python.ipynb\" target=\"_parent\"><img src=\"https://colab.research.google.com/assets/colab-badge.svg\" alt=\"Open In Colab\"/></a>"
      ]
    },
    {
      "cell_type": "code",
      "metadata": {
        "id": "hK2IWTUixnIF",
        "colab_type": "code",
        "colab": {}
      },
      "source": [
        ""
      ],
      "execution_count": 0,
      "outputs": []
    },
    {
      "cell_type": "markdown",
      "metadata": {
        "id": "rDHtnh6DLulf",
        "colab_type": "text"
      },
      "source": [
        "This is my First jupyter Notebook.\n",
        "\n",
        "(Press Shift+ Enter)"
      ]
    },
    {
      "cell_type": "code",
      "metadata": {
        "id": "9uAt4GbNNR8I",
        "colab_type": "code",
        "colab": {}
      },
      "source": [
        "Name = \"Aniruddha\"\n",
        "# this is a stirng variable"
      ],
      "execution_count": 0,
      "outputs": []
    },
    {
      "cell_type": "code",
      "metadata": {
        "id": "Wdsuo8K7PDcq",
        "colab_type": "code",
        "colab": {
          "base_uri": "https://localhost:8080/",
          "height": 35
        },
        "outputId": "50ce6665-41fd-4eaf-812d-4471925da21d"
      },
      "source": [
        "Name"
      ],
      "execution_count": 3,
      "outputs": [
        {
          "output_type": "execute_result",
          "data": {
            "text/plain": [
              "'Aniruddha'"
            ]
          },
          "metadata": {
            "tags": []
          },
          "execution_count": 3
        }
      ]
    },
    {
      "cell_type": "code",
      "metadata": {
        "id": "Ti0_Cl6jPFay",
        "colab_type": "code",
        "colab": {}
      },
      "source": [
        "#form of a number\n",
        "age= 22\n",
        "# for a character string we need a inverted comos but for but for a number string  not required"
      ],
      "execution_count": 0,
      "outputs": []
    },
    {
      "cell_type": "code",
      "metadata": {
        "id": "uzxWvKulRWKW",
        "colab_type": "code",
        "colab": {
          "base_uri": "https://localhost:8080/",
          "height": 35
        },
        "outputId": "bfbe51f9-2647-4d70-8761-97f39fcaa0dd"
      },
      "source": [
        "age"
      ],
      "execution_count": 7,
      "outputs": [
        {
          "output_type": "execute_result",
          "data": {
            "text/plain": [
              "22"
            ]
          },
          "metadata": {
            "tags": []
          },
          "execution_count": 7
        }
      ]
    },
    {
      "cell_type": "code",
      "metadata": {
        "id": "pBNRZE0ERYwd",
        "colab_type": "code",
        "colab": {
          "base_uri": "https://localhost:8080/",
          "height": 52
        },
        "outputId": "c1461489-c5bd-4e51-b345-baf08f212120"
      },
      "source": [
        "print (Name)\n",
        "print (age)"
      ],
      "execution_count": 8,
      "outputs": [
        {
          "output_type": "stream",
          "text": [
            "Aniruddha\n",
            "22\n"
          ],
          "name": "stdout"
        }
      ]
    },
    {
      "cell_type": "code",
      "metadata": {
        "id": "BVSB3Q8RTfUw",
        "colab_type": "code",
        "colab": {}
      },
      "source": [
        "#boolean Vairalbe (Value Starts with a Capital letter)\n",
        "male = True"
      ],
      "execution_count": 0,
      "outputs": []
    },
    {
      "cell_type": "code",
      "metadata": {
        "id": "wuKVJmKJTrW7",
        "colab_type": "code",
        "colab": {
          "base_uri": "https://localhost:8080/",
          "height": 35
        },
        "outputId": "b2e255df-a170-411f-953a-a6195f131041"
      },
      "source": [
        "male"
      ],
      "execution_count": 13,
      "outputs": [
        {
          "output_type": "execute_result",
          "data": {
            "text/plain": [
              "True"
            ]
          },
          "metadata": {
            "tags": []
          },
          "execution_count": 13
        }
      ]
    },
    {
      "cell_type": "code",
      "metadata": {
        "id": "yC0aaDG-TwIz",
        "colab_type": "code",
        "colab": {}
      },
      "source": [
        "#Floating Numbers \n",
        "percentage = 87.88"
      ],
      "execution_count": 0,
      "outputs": []
    },
    {
      "cell_type": "code",
      "metadata": {
        "id": "q7OVaFDvUIRY",
        "colab_type": "code",
        "colab": {
          "base_uri": "https://localhost:8080/",
          "height": 35
        },
        "outputId": "349e9f63-d6e1-4a69-9f71-2f570444d4d6"
      },
      "source": [
        "percentage"
      ],
      "execution_count": 15,
      "outputs": [
        {
          "output_type": "execute_result",
          "data": {
            "text/plain": [
              "87.88"
            ]
          },
          "metadata": {
            "tags": []
          },
          "execution_count": 15
        }
      ]
    },
    {
      "cell_type": "markdown",
      "metadata": {
        "id": "HcUoO_2TUtYv",
        "colab_type": "text"
      },
      "source": [
        "List Of Variables. it Will show the gorup of values. "
      ]
    },
    {
      "cell_type": "code",
      "metadata": {
        "id": "F8l8GKhlU6Tt",
        "colab_type": "code",
        "colab": {}
      },
      "source": [
        "marks = [87,78,60, \"Aniruddha\"]"
      ],
      "execution_count": 0,
      "outputs": []
    },
    {
      "cell_type": "code",
      "metadata": {
        "id": "kOkxy-1Re6gb",
        "colab_type": "code",
        "colab": {
          "base_uri": "https://localhost:8080/",
          "height": 35
        },
        "outputId": "0eb9bee4-2f72-4902-f55e-f60f5e710f8a"
      },
      "source": [
        "#printout the length of list marks\n",
        "len(marks)"
      ],
      "execution_count": 36,
      "outputs": [
        {
          "output_type": "execute_result",
          "data": {
            "text/plain": [
              "4"
            ]
          },
          "metadata": {
            "tags": []
          },
          "execution_count": 36
        }
      ]
    },
    {
      "cell_type": "code",
      "metadata": {
        "id": "klshoxiwVLSb",
        "colab_type": "code",
        "colab": {
          "base_uri": "https://localhost:8080/",
          "height": 35
        },
        "outputId": "d8fad527-4fe1-4746-f4ef-5085b43a1442"
      },
      "source": [
        "marks"
      ],
      "execution_count": 17,
      "outputs": [
        {
          "output_type": "execute_result",
          "data": {
            "text/plain": [
              "[87, 78, 60, 'Aniruddha']"
            ]
          },
          "metadata": {
            "tags": []
          },
          "execution_count": 17
        }
      ]
    },
    {
      "cell_type": "code",
      "metadata": {
        "id": "Rf-Fev4TVNFw",
        "colab_type": "code",
        "colab": {
          "base_uri": "https://localhost:8080/",
          "height": 35
        },
        "outputId": "b038484b-6897-4953-ebdf-5ee6029a5876"
      },
      "source": [
        "marks [3]\n",
        "# Always start with 0. To Print only the name put the number"
      ],
      "execution_count": 18,
      "outputs": [
        {
          "output_type": "execute_result",
          "data": {
            "text/plain": [
              "'Aniruddha'"
            ]
          },
          "metadata": {
            "tags": []
          },
          "execution_count": 18
        }
      ]
    },
    {
      "cell_type": "code",
      "metadata": {
        "id": "ao0abFOEWIzD",
        "colab_type": "code",
        "colab": {}
      },
      "source": [
        "education={\"Name\" : \"aniruddha\", \"Tenth\" :87, \"Tweleth\" :70, \"Graduation\":60, \"Male\" :True  }"
      ],
      "execution_count": 0,
      "outputs": []
    },
    {
      "cell_type": "code",
      "metadata": {
        "id": "FcL0WEdjX3pH",
        "colab_type": "code",
        "colab": {
          "base_uri": "https://localhost:8080/",
          "height": 104
        },
        "outputId": "d7812a84-b5b5-4d14-fb93-5175ea1f071a"
      },
      "source": [
        "education"
      ],
      "execution_count": 20,
      "outputs": [
        {
          "output_type": "execute_result",
          "data": {
            "text/plain": [
              "{'Graduation': 60,\n",
              " 'Male': True,\n",
              " 'Name': 'aniruddha',\n",
              " 'Tenth': 87,\n",
              " 'Tweleth': 70}"
            ]
          },
          "metadata": {
            "tags": []
          },
          "execution_count": 20
        }
      ]
    },
    {
      "cell_type": "code",
      "metadata": {
        "id": "27_zukVzX6cN",
        "colab_type": "code",
        "colab": {
          "base_uri": "https://localhost:8080/",
          "height": 104
        },
        "outputId": "14416041-ae20-4642-ea2d-f71a43fe9ebf"
      },
      "source": [
        "education"
      ],
      "execution_count": 21,
      "outputs": [
        {
          "output_type": "execute_result",
          "data": {
            "text/plain": [
              "{'Graduation': 60,\n",
              " 'Male': True,\n",
              " 'Name': 'aniruddha',\n",
              " 'Tenth': 87,\n",
              " 'Tweleth': 70}"
            ]
          },
          "metadata": {
            "tags": []
          },
          "execution_count": 21
        }
      ]
    },
    {
      "cell_type": "code",
      "metadata": {
        "id": "vqRaWTNbZDTa",
        "colab_type": "code",
        "colab": {
          "base_uri": "https://localhost:8080/",
          "height": 167
        },
        "outputId": "8dbad234-69ca-4284-dcd8-5839f3b5e521"
      },
      "source": [
        "#selecting an item froma dictionary\n",
        "# print only your tenth grade\n",
        "education[\"tenth\"]"
      ],
      "execution_count": 23,
      "outputs": [
        {
          "output_type": "error",
          "ename": "KeyError",
          "evalue": "ignored",
          "traceback": [
            "\u001b[0;31m---------------------------------------------------------------------------\u001b[0m",
            "\u001b[0;31mKeyError\u001b[0m                                  Traceback (most recent call last)",
            "\u001b[0;32m<ipython-input-23-b2321a9413bb>\u001b[0m in \u001b[0;36m<module>\u001b[0;34m()\u001b[0m\n\u001b[0;32m----> 1\u001b[0;31m \u001b[0meducation\u001b[0m\u001b[0;34m[\u001b[0m\u001b[0;34m\"tenth\"\u001b[0m\u001b[0;34m]\u001b[0m\u001b[0;34m\u001b[0m\u001b[0;34m\u001b[0m\u001b[0m\n\u001b[0m",
            "\u001b[0;31mKeyError\u001b[0m: 'tenth'"
          ]
        }
      ]
    },
    {
      "cell_type": "code",
      "metadata": {
        "id": "YOyyKXwEZfFo",
        "colab_type": "code",
        "colab": {
          "base_uri": "https://localhost:8080/",
          "height": 35
        },
        "outputId": "202d19fb-93f9-4126-e993-12328f81400d"
      },
      "source": [
        "education [\"Tenth\"]"
      ],
      "execution_count": 24,
      "outputs": [
        {
          "output_type": "execute_result",
          "data": {
            "text/plain": [
              "87"
            ]
          },
          "metadata": {
            "tags": []
          },
          "execution_count": 24
        }
      ]
    },
    {
      "cell_type": "code",
      "metadata": {
        "id": "o39gPTsUZpvJ",
        "colab_type": "code",
        "colab": {
          "base_uri": "https://localhost:8080/",
          "height": 35
        },
        "outputId": "e8ffba89-d4d0-40d5-f7e9-6d9e39ea68d7"
      },
      "source": [
        "#Print only keys\n",
        "education.keys()"
      ],
      "execution_count": 25,
      "outputs": [
        {
          "output_type": "execute_result",
          "data": {
            "text/plain": [
              "dict_keys(['Name', 'Tenth', 'Tweleth', 'Graduation', 'Male'])"
            ]
          },
          "metadata": {
            "tags": []
          },
          "execution_count": 25
        }
      ]
    },
    {
      "cell_type": "code",
      "metadata": {
        "id": "dBGpxZDCZ5AI",
        "colab_type": "code",
        "colab": {}
      },
      "source": [
        "#For list [] are used\n",
        "#For dictioniries {} are used"
      ],
      "execution_count": 0,
      "outputs": []
    },
    {
      "cell_type": "code",
      "metadata": {
        "id": "uQpgqhWYaPre",
        "colab_type": "code",
        "colab": {
          "base_uri": "https://localhost:8080/",
          "height": 35
        },
        "outputId": "c6f13ad7-1f62-4b5b-f16c-7250e0938840"
      },
      "source": [
        "#print only the values in the dictionaries\n",
        "education.values()"
      ],
      "execution_count": 27,
      "outputs": [
        {
          "output_type": "execute_result",
          "data": {
            "text/plain": [
              "dict_values(['aniruddha', 87, 70, 60, True])"
            ]
          },
          "metadata": {
            "tags": []
          },
          "execution_count": 27
        }
      ]
    },
    {
      "cell_type": "code",
      "metadata": {
        "id": "wQtRzHocaal4",
        "colab_type": "code",
        "colab": {}
      },
      "source": [
        "#make a dictionary containing a list of marks of 3 students.\n",
        "students = {\"st1\": [90,91,91],\n",
        "            \"st2\" : [50,50,50],\n",
        "            \"st3\": [60,89,48]}"
      ],
      "execution_count": 0,
      "outputs": []
    },
    {
      "cell_type": "code",
      "metadata": {
        "id": "mc9ZFYe6cvM3",
        "colab_type": "code",
        "colab": {
          "base_uri": "https://localhost:8080/",
          "height": 35
        },
        "outputId": "391d06a1-1813-4187-a9d1-f605f54cc647"
      },
      "source": [
        "#print the marks for student 2 and his only graduation score.\n",
        "print (students [\"st2\"][-1], students [\"st3\"][2]) #-1 is used to print the last value. or else we can use the number.\n"
      ],
      "execution_count": 39,
      "outputs": [
        {
          "output_type": "stream",
          "text": [
            "50 48\n"
          ],
          "name": "stdout"
        }
      ]
    },
    {
      "cell_type": "code",
      "metadata": {
        "id": "cTXKbYSibRnU",
        "colab_type": "code",
        "colab": {}
      },
      "source": [
        "9# Make a list containing a disctionary\n",
        "fiends =[{\"name\": \"rahul\",\"age\" : 27,}, {\"name\": \"ravi\", \"age\" : 26}]"
      ],
      "execution_count": 0,
      "outputs": []
    },
    {
      "cell_type": "code",
      "metadata": {
        "id": "OeVcRxpxcRe8",
        "colab_type": "code",
        "colab": {
          "base_uri": "https://localhost:8080/",
          "height": 35
        },
        "outputId": "5362d9da-23d9-4ffd-f945-d737ac3a25b0"
      },
      "source": [
        "# Trying to find out a data type.\n",
        "type(marks)"
      ],
      "execution_count": 40,
      "outputs": [
        {
          "output_type": "execute_result",
          "data": {
            "text/plain": [
              "list"
            ]
          },
          "metadata": {
            "tags": []
          },
          "execution_count": 40
        }
      ]
    },
    {
      "cell_type": "code",
      "metadata": {
        "id": "IlDjLACCgB9B",
        "colab_type": "code",
        "colab": {
          "base_uri": "https://localhost:8080/",
          "height": 35
        },
        "outputId": "8417786d-2cf8-42cc-a34c-06bc5eca0592"
      },
      "source": [
        "#create a list of names of 3 friends, print it and add a fourth a \n",
        "friends=[\"a\",\"b\",\"c\"]\n",
        "friends"
      ],
      "execution_count": 41,
      "outputs": [
        {
          "output_type": "execute_result",
          "data": {
            "text/plain": [
              "['a', 'b', 'c']"
            ]
          },
          "metadata": {
            "tags": []
          },
          "execution_count": 41
        }
      ]
    },
    {
      "cell_type": "code",
      "metadata": {
        "id": "wBH7fjJZi2Oj",
        "colab_type": "code",
        "colab": {}
      },
      "source": [
        "friends.append('d')"
      ],
      "execution_count": 0,
      "outputs": []
    },
    {
      "cell_type": "code",
      "metadata": {
        "id": "xZNX8scSjMpJ",
        "colab_type": "code",
        "colab": {
          "base_uri": "https://localhost:8080/",
          "height": 35
        },
        "outputId": "606b3ce3-aade-47a1-c7ee-d689d33cfff5"
      },
      "source": [
        "friends"
      ],
      "execution_count": 43,
      "outputs": [
        {
          "output_type": "execute_result",
          "data": {
            "text/plain": [
              "['a', 'b', 'c', 'd']"
            ]
          },
          "metadata": {
            "tags": []
          },
          "execution_count": 43
        }
      ]
    },
    {
      "cell_type": "code",
      "metadata": {
        "id": "3fPOCvbzjOzV",
        "colab_type": "code",
        "colab": {}
      },
      "source": [
        "friends.append(['e','f'])"
      ],
      "execution_count": 0,
      "outputs": []
    },
    {
      "cell_type": "code",
      "metadata": {
        "id": "CP9bFs24jyEw",
        "colab_type": "code",
        "colab": {
          "base_uri": "https://localhost:8080/",
          "height": 35
        },
        "outputId": "29678af7-14b0-45ad-d965-fbc1199c9034"
      },
      "source": [
        "friends"
      ],
      "execution_count": 48,
      "outputs": [
        {
          "output_type": "execute_result",
          "data": {
            "text/plain": [
              "['a', 'b', 'c', 'd', 'e', ['e', 'f']]"
            ]
          },
          "metadata": {
            "tags": []
          },
          "execution_count": 48
        }
      ]
    },
    {
      "cell_type": "code",
      "metadata": {
        "id": "ejlXdlJBkXWw",
        "colab_type": "code",
        "colab": {}
      },
      "source": [
        "friends[0]= \"f\""
      ],
      "execution_count": 0,
      "outputs": []
    },
    {
      "cell_type": "code",
      "metadata": {
        "id": "a__qPgXfk_Vn",
        "colab_type": "code",
        "colab": {
          "base_uri": "https://localhost:8080/",
          "height": 35
        },
        "outputId": "9b3ae577-d423-4c92-e202-ef930f1b72e9"
      },
      "source": [
        "friends"
      ],
      "execution_count": 51,
      "outputs": [
        {
          "output_type": "execute_result",
          "data": {
            "text/plain": [
              "['f', 'b', 'c', 'd', 'e', ['e', 'f']]"
            ]
          },
          "metadata": {
            "tags": []
          },
          "execution_count": 51
        }
      ]
    },
    {
      "cell_type": "code",
      "metadata": {
        "id": "bWxfqYeqlHt3",
        "colab_type": "code",
        "colab": {}
      },
      "source": [
        ""
      ],
      "execution_count": 0,
      "outputs": []
    }
  ]
}